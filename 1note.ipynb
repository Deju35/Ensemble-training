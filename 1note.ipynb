{
 "cells": [
  {
   "cell_type": "code",
   "execution_count": 1,
   "id": "0552fcef",
   "metadata": {
    "_cell_guid": "b1076dfc-b9ad-4769-8c92-a6c4dae69d19",
    "_uuid": "8f2839f25d086af736a60e9eeb907d3b93b6e0e5",
    "execution": {
     "iopub.execute_input": "2022-11-29T12:06:21.719461Z",
     "iopub.status.busy": "2022-11-29T12:06:21.718410Z",
     "iopub.status.idle": "2022-11-29T12:06:23.507885Z",
     "shell.execute_reply": "2022-11-29T12:06:23.506673Z"
    },
    "papermill": {
     "duration": 1.799249,
     "end_time": "2022-11-29T12:06:23.510850",
     "exception": false,
     "start_time": "2022-11-29T12:06:21.711601",
     "status": "completed"
    },
    "tags": []
   },
   "outputs": [],
   "source": [
    "import torch\n",
    "\n",
    "from torch import nn\n",
    "import matplotlib.pyplot as plt\n",
    "\n"
   ]
  },
  {
   "cell_type": "code",
   "execution_count": 2,
   "id": "5ddec027",
   "metadata": {
    "execution": {
     "iopub.execute_input": "2022-11-29T12:06:23.520622Z",
     "iopub.status.busy": "2022-11-29T12:06:23.519979Z",
     "iopub.status.idle": "2022-11-29T12:06:23.538803Z",
     "shell.execute_reply": "2022-11-29T12:06:23.537601Z"
    },
    "papermill": {
     "duration": 0.027148,
     "end_time": "2022-11-29T12:06:23.542012",
     "exception": false,
     "start_time": "2022-11-29T12:06:23.514864",
     "status": "completed"
    },
    "tags": []
   },
   "outputs": [
    {
     "data": {
      "text/plain": [
       "(tensor([[0.0000],\n",
       "         [0.0200],\n",
       "         [0.0400],\n",
       "         [0.0600],\n",
       "         [0.0800],\n",
       "         [0.1000],\n",
       "         [0.1200],\n",
       "         [0.1400],\n",
       "         [0.1600],\n",
       "         [0.1800]]),\n",
       " tensor([[0.3000],\n",
       "         [0.3140],\n",
       "         [0.3280],\n",
       "         [0.3420],\n",
       "         [0.3560],\n",
       "         [0.3700],\n",
       "         [0.3840],\n",
       "         [0.3980],\n",
       "         [0.4120],\n",
       "         [0.4260]]))"
      ]
     },
     "execution_count": 2,
     "metadata": {},
     "output_type": "execute_result"
    }
   ],
   "source": [
    "# Create *known* parameters\n",
    "weight = 0.7\n",
    "bias = 0.3\n",
    "\n",
    "# Create data\n",
    "start = 0\n",
    "end = 1\n",
    "step = 0.02\n",
    "X = torch.arange(start, end, step).unsqueeze(dim=1)\n",
    "y = weight * X + bias\n",
    "\n",
    "X[:10], y[:10]"
   ]
  },
  {
   "cell_type": "code",
   "execution_count": 3,
   "id": "088db677",
   "metadata": {
    "execution": {
     "iopub.execute_input": "2022-11-29T12:06:23.551762Z",
     "iopub.status.busy": "2022-11-29T12:06:23.551364Z",
     "iopub.status.idle": "2022-11-29T12:06:23.561020Z",
     "shell.execute_reply": "2022-11-29T12:06:23.559723Z"
    },
    "papermill": {
     "duration": 0.0175,
     "end_time": "2022-11-29T12:06:23.563461",
     "exception": false,
     "start_time": "2022-11-29T12:06:23.545961",
     "status": "completed"
    },
    "tags": []
   },
   "outputs": [
    {
     "data": {
      "text/plain": [
       "(40, 40, 10, 10)"
      ]
     },
     "execution_count": 3,
     "metadata": {},
     "output_type": "execute_result"
    }
   ],
   "source": [
    "train_split = int(0.8 * len(X))#80 percent for training and 20 for test\n",
    "X_train,y_train = X[:train_split], y[:train_split]\n",
    "X_test,y_test = X[train_split:], y[train_split:]\n",
    "\n",
    "len(X_train), len(y_train), len(X_test), len(y_test)\n",
    "\n",
    "\n",
    "\n"
   ]
  },
  {
   "cell_type": "code",
   "execution_count": 4,
   "id": "4ccbfa67",
   "metadata": {
    "execution": {
     "iopub.execute_input": "2022-11-29T12:06:23.573468Z",
     "iopub.status.busy": "2022-11-29T12:06:23.572961Z",
     "iopub.status.idle": "2022-11-29T12:06:23.582931Z",
     "shell.execute_reply": "2022-11-29T12:06:23.580912Z"
    },
    "papermill": {
     "duration": 0.019544,
     "end_time": "2022-11-29T12:06:23.587086",
     "exception": false,
     "start_time": "2022-11-29T12:06:23.567542",
     "status": "completed"
    },
    "tags": []
   },
   "outputs": [],
   "source": [
    "def plot_predictions(train_data=X_train, \n",
    "                     train_labels=y_train, \n",
    "                     test_data=X_test, \n",
    "                     test_labels=y_test, \n",
    "                     predictions=None):\n",
    "  \"\"\"\n",
    "  Plots training data, test data and compares predictions.\n",
    "  \"\"\"\n",
    "  plt.figure(figsize=(10, 7))\n",
    "\n",
    "  # Plot training data in blue\n",
    "  plt.scatter(train_data, train_labels, c=\"b\", s=4, label=\"Training data\")\n",
    "  \n",
    "  # Plot test data in green\n",
    "  plt.scatter(test_data, test_labels, c=\"y\", s=4, label=\"Testing data\")\n",
    "\n",
    "  if predictions is not None:\n",
    "    # Plot the predictions in red (predictions were made on the test data)\n",
    "    plt.scatter(test_data, predictions, c=\"r\", s=4, label=\"Predictions\")\n",
    "\n",
    "  # Show the legend\n",
    "  plt.legend(prop={\"size\": 20});\n"
   ]
  },
  {
   "cell_type": "code",
   "execution_count": 5,
   "id": "0e81de32",
   "metadata": {
    "execution": {
     "iopub.execute_input": "2022-11-29T12:06:23.600706Z",
     "iopub.status.busy": "2022-11-29T12:06:23.598561Z",
     "iopub.status.idle": "2022-11-29T12:06:23.922966Z",
     "shell.execute_reply": "2022-11-29T12:06:23.922106Z"
    },
    "papermill": {
     "duration": 0.33231,
     "end_time": "2022-11-29T12:06:23.925377",
     "exception": false,
     "start_time": "2022-11-29T12:06:23.593067",
     "status": "completed"
    },
    "tags": []
   },
   "outputs": [
    {
     "data": {
      "image/png": "[encoded data removed]",
      "text/plain": [
       "<Figure size 720x504 with 1 Axes>"
      ]
     },
     "metadata": {
      "needs_background": "light"
     },
     "output_type": "display_data"
    }
   ],
   "source": [
    "plot_predictions()"
   ]
  },
  {
   "cell_type": "code",
   "execution_count": 6,
   "id": "feef6fa1",
   "metadata": {
    "execution": {
     "iopub.execute_input": "2022-11-29T12:06:23.936255Z",
     "iopub.status.busy": "2022-11-29T12:06:23.935609Z",
     "iopub.status.idle": "2022-11-29T12:06:23.942526Z",
     "shell.execute_reply": "2022-11-29T12:06:23.941595Z"
    },
    "papermill": {
     "duration": 0.015126,
     "end_time": "2022-11-29T12:06:23.944853",
     "exception": false,
     "start_time": "2022-11-29T12:06:23.929727",
     "status": "completed"
    },
    "tags": []
   },
   "outputs": [],
   "source": [
    "# Create a Linear Regression model class\n",
    "class LinearRegressionModel(nn.Module): # <- almost everything in PyTorch is a nn.Module (think of this as neural network lego blocks)\n",
    "    def __init__(self):\n",
    "        super().__init__() \n",
    "        self.weights = nn.Parameter(torch.randn(1, # <- start with random weights (this will get adjusted as the model learns)\n",
    "                                                dtype=torch.float), # <- PyTorch loves float32 by default\n",
    "                                   requires_grad=True) # <- can we update this value with gradient descent?)\n",
    "\n",
    "        self.bias = nn.Parameter(torch.randn(1, # <- start with random bias (this will get adjusted as the model learns)\n",
    "                                            dtype=torch.float), # <- PyTorch loves float32 by default\n",
    "                                requires_grad=True) # <- can we update this value with gradient descent?))\n",
    "\n",
    "    # Forward defines the computation in the model\n",
    "    def forward(self, x: torch.Tensor) -> torch.Tensor: # <- \"x\" is the input data (e.g. training/testing features)\n",
    "        return self.weights * x + self.bias # <- this is the linear regression formula (y = m*x + b)"
   ]
  },
  {
   "cell_type": "code",
   "execution_count": 7,
   "id": "a457baaf",
   "metadata": {
    "execution": {
     "iopub.execute_input": "2022-11-29T12:06:23.955944Z",
     "iopub.status.busy": "2022-11-29T12:06:23.955245Z",
     "iopub.status.idle": "2022-11-29T12:06:23.969159Z",
     "shell.execute_reply": "2022-11-29T12:06:23.968194Z"
    },
    "papermill": {
     "duration": 0.022465,
     "end_time": "2022-11-29T12:06:23.971579",
     "exception": false,
     "start_time": "2022-11-29T12:06:23.949114",
     "status": "completed"
    },
    "tags": []
   },
   "outputs": [
    {
     "data": {
      "text/plain": [
       "[Parameter containing:\n",
       " tensor([0.3367], requires_grad=True),\n",
       " Parameter containing:\n",
       " tensor([0.1288], requires_grad=True)]"
      ]
     },
     "execution_count": 7,
     "metadata": {},
     "output_type": "execute_result"
    }
   ],
   "source": [
    "\n",
    "# Set manual seed since nn.Parameter are randomly initialzied\n",
    "torch.manual_seed(42)\n",
    "\n",
    "# Create an instance of the model (this is a subclass of nn.Module that contains nn.Parameter(s))\n",
    "model_0 = LinearRegressionModel()\n",
    "\n",
    "# Check the nn.Parameter(s) within the nn.Module subclass we created\n",
    "list(model_0.parameters())"
   ]
  },
  {
   "cell_type": "code",
   "execution_count": 8,
   "id": "582ea622",
   "metadata": {
    "execution": {
     "iopub.execute_input": "2022-11-29T12:06:23.982644Z",
     "iopub.status.busy": "2022-11-29T12:06:23.982147Z",
     "iopub.status.idle": "2022-11-29T12:06:23.990907Z",
     "shell.execute_reply": "2022-11-29T12:06:23.989634Z"
    },
    "papermill": {
     "duration": 0.017586,
     "end_time": "2022-11-29T12:06:23.993570",
     "exception": false,
     "start_time": "2022-11-29T12:06:23.975984",
     "status": "completed"
    },
    "tags": []
   },
   "outputs": [
    {
     "data": {
      "text/plain": [
       "OrderedDict([('weights', tensor([0.3367])), ('bias', tensor([0.1288]))])"
      ]
     },
     "execution_count": 8,
     "metadata": {},
     "output_type": "execute_result"
    }
   ],
   "source": [
    "# List named parameters \n",
    "model_0.state_dict()"
   ]
  },
  {
   "cell_type": "code",
   "execution_count": 9,
   "id": "484fdc5f",
   "metadata": {
    "execution": {
     "iopub.execute_input": "2022-11-29T12:06:24.004430Z",
     "iopub.status.busy": "2022-11-29T12:06:24.003990Z",
     "iopub.status.idle": "2022-11-29T12:06:24.009973Z",
     "shell.execute_reply": "2022-11-29T12:06:24.008795Z"
    },
    "papermill": {
     "duration": 0.014184,
     "end_time": "2022-11-29T12:06:24.012343",
     "exception": false,
     "start_time": "2022-11-29T12:06:23.998159",
     "status": "completed"
    },
    "tags": []
   },
   "outputs": [],
   "source": [
    "# Make predictions with model\n",
    "with torch.inference_mode(): \n",
    "    y_preds = model_0(X_test)\n"
   ]
  },
  {
   "cell_type": "code",
   "execution_count": 10,
   "id": "b7726705",
   "metadata": {
    "execution": {
     "iopub.execute_input": "2022-11-29T12:06:24.023508Z",
     "iopub.status.busy": "2022-11-29T12:06:24.023065Z",
     "iopub.status.idle": "2022-11-29T12:06:24.032972Z",
     "shell.execute_reply": "2022-11-29T12:06:24.031764Z"
    },
    "papermill": {
     "duration": 0.018892,
     "end_time": "2022-11-29T12:06:24.035772",
     "exception": false,
     "start_time": "2022-11-29T12:06:24.016880",
     "status": "completed"
    },
    "tags": []
   },
   "outputs": [
    {
     "name": "stdout",
     "output_type": "stream",
     "text": [
      "Number of testing samples: 10\n",
      "Number of predictions made: 10\n",
      "Predicted values:\n",
      "tensor([[0.3982],\n",
      "        [0.4049],\n",
      "        [0.4116],\n",
      "        [0.4184],\n",
      "        [0.4251],\n",
      "        [0.4318],\n",
      "        [0.4386],\n",
      "        [0.4453],\n",
      "        [0.4520],\n",
      "        [0.4588]])\n"
     ]
    }
   ],
   "source": [
    "# Check the predictions\n",
    "print(f\"Number of testing samples: {len(X_test)}\") \n",
    "print(f\"Number of predictions made: {len(y_preds)}\")\n",
    "print(f\"Predicted values:\\n{y_preds}\")"
   ]
  },
  {
   "cell_type": "code",
   "execution_count": 11,
   "id": "ef013745",
   "metadata": {
    "execution": {
     "iopub.execute_input": "2022-11-29T12:06:24.047096Z",
     "iopub.status.busy": "2022-11-29T12:06:24.046666Z",
     "iopub.status.idle": "2022-11-29T12:06:24.362098Z",
     "shell.execute_reply": "2022-11-29T12:06:24.360636Z"
    },
    "papermill": {
     "duration": 0.324899,
     "end_time": "2022-11-29T12:06:24.365349",
     "exception": false,
     "start_time": "2022-11-29T12:06:24.040450",
     "status": "completed"
    },
    "tags": []
   },
   "outputs": [
    {
     "data": {
      "image/png": "[encoded data removed]",
      "text/plain": [
       "<Figure size 720x504 with 1 Axes>"
      ]
     },
     "metadata": {
      "needs_background": "light"
     },
     "output_type": "display_data"
    }
   ],
   "source": [
    "plot_predictions(predictions=y_preds)"
   ]
  }
 ],
 "metadata": {
  "kernelspec": {
   "display_name": "Python 3",
   "language": "python",
   "name": "python3"
  },
  "language_info": {
   "codemirror_mode": {
    "name": "ipython",
    "version": 3
   },
   "file_extension": ".py",
   "mimetype": "text/x-python",
   "name": "python",
   "nbconvert_exporter": "python",
   "pygments_lexer": "ipython3",
   "version": "3.7.12"
  },
  "papermill": {
   "default_parameters": {},
   "duration": 12.284261,
   "end_time": "2022-11-29T12:06:25.197931",
   "environment_variables": {},
   "exception": null,
   "input_path": "__notebook__.ipynb",
   "output_path": "__notebook__.ipynb",
   "parameters": {},
   "start_time": "2022-11-29T12:06:12.913670",
   "version": "2.3.4"
  }
 },
 "nbformat": 4,
 "nbformat_minor": 5
}
