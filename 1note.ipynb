{
 "cells": [
  {
   "cell_type": "code",
   "execution_count": 1,
   "id": "d2c1e2d2",
   "metadata": {
    "_cell_guid": "b1076dfc-b9ad-4769-8c92-a6c4dae69d19",
    "_uuid": "8f2839f25d086af736a60e9eeb907d3b93b6e0e5",
    "execution": {
     "iopub.execute_input": "2022-11-29T13:07:56.963910Z",
     "iopub.status.busy": "2022-11-29T13:07:56.963235Z",
     "iopub.status.idle": "2022-11-29T13:07:58.624624Z",
     "shell.execute_reply": "2022-11-29T13:07:58.623165Z"
    },
    "papermill": {
     "duration": 1.671738,
     "end_time": "2022-11-29T13:07:58.627665",
     "exception": false,
     "start_time": "2022-11-29T13:07:56.955927",
     "status": "completed"
    },
    "tags": []
   },
   "outputs": [],
   "source": [
    "import torch\n",
    "\n",
    "from torch import nn\n",
    "import matplotlib.pyplot as plt\n",
    "\n"
   ]
  },
  {
   "cell_type": "code",
   "execution_count": 2,
   "id": "7b1e5533",
   "metadata": {
    "execution": {
     "iopub.execute_input": "2022-11-29T13:07:58.639493Z",
     "iopub.status.busy": "2022-11-29T13:07:58.638961Z",
     "iopub.status.idle": "2022-11-29T13:07:58.655132Z",
     "shell.execute_reply": "2022-11-29T13:07:58.654222Z"
    },
    "papermill": {
     "duration": 0.024115,
     "end_time": "2022-11-29T13:07:58.656997",
     "exception": false,
     "start_time": "2022-11-29T13:07:58.632882",
     "status": "completed"
    },
    "tags": []
   },
   "outputs": [
    {
     "data": {
      "text/plain": [
       "(tensor([[0.0000],\n",
       "         [0.0200],\n",
       "         [0.0400],\n",
       "         [0.0600],\n",
       "         [0.0800],\n",
       "         [0.1000],\n",
       "         [0.1200],\n",
       "         [0.1400],\n",
       "         [0.1600],\n",
       "         [0.1800]]),\n",
       " tensor([[0.3000],\n",
       "         [0.3140],\n",
       "         [0.3280],\n",
       "         [0.3420],\n",
       "         [0.3560],\n",
       "         [0.3700],\n",
       "         [0.3840],\n",
       "         [0.3980],\n",
       "         [0.4120],\n",
       "         [0.4260]]))"
      ]
     },
     "execution_count": 2,
     "metadata": {},
     "output_type": "execute_result"
    }
   ],
   "source": [
    "# Create *known* parameters\n",
    "weight = 0.7\n",
    "bias = 0.3\n",
    "\n",
    "# Create data\n",
    "start = 0\n",
    "end = 1\n",
    "step = 0.02\n",
    "X = torch.arange(start, end, step).unsqueeze(dim=1)\n",
    "y = weight * X + bias\n",
    "\n",
    "X[:10], y[:10]"
   ]
  },
  {
   "cell_type": "code",
   "execution_count": 3,
   "id": "6304a38d",
   "metadata": {
    "execution": {
     "iopub.execute_input": "2022-11-29T13:07:58.668475Z",
     "iopub.status.busy": "2022-11-29T13:07:58.668140Z",
     "iopub.status.idle": "2022-11-29T13:07:58.675064Z",
     "shell.execute_reply": "2022-11-29T13:07:58.674153Z"
    },
    "papermill": {
     "duration": 0.015221,
     "end_time": "2022-11-29T13:07:58.677345",
     "exception": false,
     "start_time": "2022-11-29T13:07:58.662124",
     "status": "completed"
    },
    "tags": []
   },
   "outputs": [
    {
     "data": {
      "text/plain": [
       "(40, 40, 10, 10)"
      ]
     },
     "execution_count": 3,
     "metadata": {},
     "output_type": "execute_result"
    }
   ],
   "source": [
    "train_split = int(0.8 * len(X))#80 percent for training and 20 for test\n",
    "X_train,y_train = X[:train_split], y[:train_split]\n",
    "X_test,y_test = X[train_split:], y[train_split:]\n",
    "\n",
    "len(X_train), len(y_train), len(X_test), len(y_test)\n",
    "\n",
    "\n",
    "\n"
   ]
  },
  {
   "cell_type": "code",
   "execution_count": 4,
   "id": "edaa175a",
   "metadata": {
    "execution": {
     "iopub.execute_input": "2022-11-29T13:07:58.689838Z",
     "iopub.status.busy": "2022-11-29T13:07:58.688745Z",
     "iopub.status.idle": "2022-11-29T13:07:58.695470Z",
     "shell.execute_reply": "2022-11-29T13:07:58.694817Z"
    },
    "papermill": {
     "duration": 0.014596,
     "end_time": "2022-11-29T13:07:58.697214",
     "exception": false,
     "start_time": "2022-11-29T13:07:58.682618",
     "status": "completed"
    },
    "tags": []
   },
   "outputs": [],
   "source": [
    "def plot_predictions(train_data=X_train, \n",
    "                     train_labels=y_train, \n",
    "                     test_data=X_test, \n",
    "                     test_labels=y_test, \n",
    "                     predictions=None):\n",
    "  \"\"\"\n",
    "  Plots training data, test data and compares predictions.\n",
    "  \"\"\"\n",
    "  plt.figure(figsize=(10, 7))\n",
    "\n",
    "  # Plot training data in blue\n",
    "  plt.scatter(train_data, train_labels, c=\"b\", s=4, label=\"Training data\")\n",
    "  \n",
    "  # Plot test data in green\n",
    "  plt.scatter(test_data, test_labels, c=\"y\", s=4, label=\"Testing data\")\n",
    "\n",
    "  if predictions is not None:\n",
    "    # Plot the predictions in red (predictions were made on the test data)\n",
    "    plt.scatter(test_data, predictions, c=\"r\", s=4, label=\"Predictions\")\n",
    "\n",
    "  # Show the legend\n",
    "  plt.legend(prop={\"size\": 20});\n"
   ]
  },
  {
   "cell_type": "code",
   "execution_count": 5,
   "id": "73399039",
   "metadata": {
    "execution": {
     "iopub.execute_input": "2022-11-29T13:07:58.709109Z",
     "iopub.status.busy": "2022-11-29T13:07:58.708803Z",
     "iopub.status.idle": "2022-11-29T13:07:58.969341Z",
     "shell.execute_reply": "2022-11-29T13:07:58.968124Z"
    },
    "papermill": {
     "duration": 0.268849,
     "end_time": "2022-11-29T13:07:58.971449",
     "exception": false,
     "start_time": "2022-11-29T13:07:58.702600",
     "status": "completed"
    },
    "tags": []
   },
   "outputs": [
    {
     "data": {
      "image/png": "[encoded data removed]",
      "text/plain": [
       "<Figure size 720x504 with 1 Axes>"
      ]
     },
     "metadata": {
      "needs_background": "light"
     },
     "output_type": "display_data"
    }
   ],
   "source": [
    "plot_predictions()"
   ]
  },
  {
   "cell_type": "code",
   "execution_count": 6,
   "id": "22aff826",
   "metadata": {
    "execution": {
     "iopub.execute_input": "2022-11-29T13:07:58.983340Z",
     "iopub.status.busy": "2022-11-29T13:07:58.983013Z",
     "iopub.status.idle": "2022-11-29T13:07:58.989557Z",
     "shell.execute_reply": "2022-11-29T13:07:58.988599Z"
    },
    "papermill": {
     "duration": 0.014957,
     "end_time": "2022-11-29T13:07:58.991758",
     "exception": false,
     "start_time": "2022-11-29T13:07:58.976801",
     "status": "completed"
    },
    "tags": []
   },
   "outputs": [],
   "source": [
    "# Create a Linear Regression model class\n",
    "class LinearRegressionModel(nn.Module): # <- almost everything in PyTorch is a nn.Module (think of this as neural network lego blocks)\n",
    "    def __init__(self):\n",
    "        super().__init__() \n",
    "        self.weights = nn.Parameter(torch.randn(1, # <- start with random weights (this will get adjusted as the model learns)\n",
    "                                                dtype=torch.float), # <- PyTorch loves float32 by default\n",
    "                                   requires_grad=True) # <- can we update this value with gradient descent?)\n",
    "\n",
    "        self.bias = nn.Parameter(torch.randn(1, # <- start with random bias (this will get adjusted as the model learns)\n",
    "                                            dtype=torch.float), # <- PyTorch loves float32 by default\n",
    "                                requires_grad=True) # <- can we update this value with gradient descent?))\n",
    "\n",
    "    # Forward defines the computation in the model\n",
    "    def forward(self, x: torch.Tensor) -> torch.Tensor: # <- \"x\" is the input data (e.g. training/testing features)\n",
    "        return self.weights * x + self.bias # <- this is the linear regression formula (y = m*x + b)"
   ]
  },
  {
   "cell_type": "code",
   "execution_count": 7,
   "id": "752d47d6",
   "metadata": {
    "execution": {
     "iopub.execute_input": "2022-11-29T13:07:59.004628Z",
     "iopub.status.busy": "2022-11-29T13:07:59.003621Z",
     "iopub.status.idle": "2022-11-29T13:07:59.016756Z",
     "shell.execute_reply": "2022-11-29T13:07:59.015991Z"
    },
    "papermill": {
     "duration": 0.02153,
     "end_time": "2022-11-29T13:07:59.018656",
     "exception": false,
     "start_time": "2022-11-29T13:07:58.997126",
     "status": "completed"
    },
    "tags": []
   },
   "outputs": [
    {
     "data": {
      "text/plain": [
       "[Parameter containing:\n",
       " tensor([0.3367], requires_grad=True),\n",
       " Parameter containing:\n",
       " tensor([0.1288], requires_grad=True)]"
      ]
     },
     "execution_count": 7,
     "metadata": {},
     "output_type": "execute_result"
    }
   ],
   "source": [
    "\n",
    "# Set manual seed since nn.Parameter are randomly initialzied\n",
    "torch.manual_seed(42)\n",
    "\n",
    "# Create an instance of the model (this is a subclass of nn.Module that contains nn.Parameter(s))\n",
    "model_0 = LinearRegressionModel()\n",
    "\n",
    "# Check the nn.Parameter(s) within the nn.Module subclass we created\n",
    "list(model_0.parameters())"
   ]
  },
  {
   "cell_type": "code",
   "execution_count": 8,
   "id": "a802a8a3",
   "metadata": {
    "execution": {
     "iopub.execute_input": "2022-11-29T13:07:59.032912Z",
     "iopub.status.busy": "2022-11-29T13:07:59.032140Z",
     "iopub.status.idle": "2022-11-29T13:07:59.038475Z",
     "shell.execute_reply": "2022-11-29T13:07:59.037155Z"
    },
    "papermill": {
     "duration": 0.016229,
     "end_time": "2022-11-29T13:07:59.040405",
     "exception": false,
     "start_time": "2022-11-29T13:07:59.024176",
     "status": "completed"
    },
    "tags": []
   },
   "outputs": [
    {
     "data": {
      "text/plain": [
       "OrderedDict([('weights', tensor([0.3367])), ('bias', tensor([0.1288]))])"
      ]
     },
     "execution_count": 8,
     "metadata": {},
     "output_type": "execute_result"
    }
   ],
   "source": [
    "# List named parameters \n",
    "model_0.state_dict()"
   ]
  },
  {
   "cell_type": "code",
   "execution_count": 9,
   "id": "8b6bfee2",
   "metadata": {
    "execution": {
     "iopub.execute_input": "2022-11-29T13:07:59.052799Z",
     "iopub.status.busy": "2022-11-29T13:07:59.052411Z",
     "iopub.status.idle": "2022-11-29T13:07:59.057893Z",
     "shell.execute_reply": "2022-11-29T13:07:59.056782Z"
    },
    "papermill": {
     "duration": 0.014084,
     "end_time": "2022-11-29T13:07:59.060035",
     "exception": false,
     "start_time": "2022-11-29T13:07:59.045951",
     "status": "completed"
    },
    "tags": []
   },
   "outputs": [],
   "source": [
    "# Make predictions with model\n",
    "with torch.inference_mode(): \n",
    "    y_preds = model_0(X_test)\n"
   ]
  },
  {
   "cell_type": "code",
   "execution_count": 10,
   "id": "5e93ada8",
   "metadata": {
    "execution": {
     "iopub.execute_input": "2022-11-29T13:07:59.073030Z",
     "iopub.status.busy": "2022-11-29T13:07:59.072311Z",
     "iopub.status.idle": "2022-11-29T13:07:59.080626Z",
     "shell.execute_reply": "2022-11-29T13:07:59.079428Z"
    },
    "papermill": {
     "duration": 0.016854,
     "end_time": "2022-11-29T13:07:59.082753",
     "exception": false,
     "start_time": "2022-11-29T13:07:59.065899",
     "status": "completed"
    },
    "tags": []
   },
   "outputs": [
    {
     "name": "stdout",
     "output_type": "stream",
     "text": [
      "Number of testing samples: 10\n",
      "Number of predictions made: 10\n",
      "Predicted values:\n",
      "tensor([[0.3982],\n",
      "        [0.4049],\n",
      "        [0.4116],\n",
      "        [0.4184],\n",
      "        [0.4251],\n",
      "        [0.4318],\n",
      "        [0.4386],\n",
      "        [0.4453],\n",
      "        [0.4520],\n",
      "        [0.4588]])\n"
     ]
    }
   ],
   "source": [
    "# Check the predictions\n",
    "print(f\"Number of testing samples: {len(X_test)}\") \n",
    "print(f\"Number of predictions made: {len(y_preds)}\")\n",
    "print(f\"Predicted values:\\n{y_preds}\")"
   ]
  },
  {
   "cell_type": "code",
   "execution_count": 11,
   "id": "683930ca",
   "metadata": {
    "execution": {
     "iopub.execute_input": "2022-11-29T13:07:59.095145Z",
     "iopub.status.busy": "2022-11-29T13:07:59.094819Z",
     "iopub.status.idle": "2022-11-29T13:07:59.323621Z",
     "shell.execute_reply": "2022-11-29T13:07:59.322690Z"
    },
    "papermill": {
     "duration": 0.237554,
     "end_time": "2022-11-29T13:07:59.325897",
     "exception": false,
     "start_time": "2022-11-29T13:07:59.088343",
     "status": "completed"
    },
    "tags": []
   },
   "outputs": [
    {
     "data": {
      "image/png": "[encoded data removed]",
      "text/plain": [
       "<Figure size 720x504 with 1 Axes>"
      ]
     },
     "metadata": {
      "needs_background": "light"
     },
     "output_type": "display_data"
    }
   ],
   "source": [
    "plot_predictions(predictions=y_preds)"
   ]
  },
  {
   "cell_type": "code",
   "execution_count": 12,
   "id": "e65795c7",
   "metadata": {
    "execution": {
     "iopub.execute_input": "2022-11-29T13:07:59.338910Z",
     "iopub.status.busy": "2022-11-29T13:07:59.338574Z",
     "iopub.status.idle": "2022-11-29T13:07:59.344265Z",
     "shell.execute_reply": "2022-11-29T13:07:59.342566Z"
    },
    "papermill": {
     "duration": 0.014632,
     "end_time": "2022-11-29T13:07:59.346521",
     "exception": false,
     "start_time": "2022-11-29T13:07:59.331889",
     "status": "completed"
    },
    "tags": []
   },
   "outputs": [
    {
     "name": "stdout",
     "output_type": "stream",
     "text": [
      "Using: cpu\n"
     ]
    }
   ],
   "source": [
    "device = 'Cuda' if torch.cuda.is_available() else\"cpu\"\n",
    "print(f\"Using: {device}\")"
   ]
  },
  {
   "cell_type": "code",
   "execution_count": 13,
   "id": "a6de5375",
   "metadata": {
    "execution": {
     "iopub.execute_input": "2022-11-29T13:07:59.359878Z",
     "iopub.status.busy": "2022-11-29T13:07:59.359537Z",
     "iopub.status.idle": "2022-11-29T13:07:59.368943Z",
     "shell.execute_reply": "2022-11-29T13:07:59.367836Z"
    },
    "papermill": {
     "duration": 0.018426,
     "end_time": "2022-11-29T13:07:59.371232",
     "exception": false,
     "start_time": "2022-11-29T13:07:59.352806",
     "status": "completed"
    },
    "tags": []
   },
   "outputs": [
    {
     "data": {
      "text/plain": [
       "(tensor([[0.0000],\n",
       "         [0.0200],\n",
       "         [0.0400],\n",
       "         [0.0600],\n",
       "         [0.0800],\n",
       "         [0.1000],\n",
       "         [0.1200],\n",
       "         [0.1400],\n",
       "         [0.1600],\n",
       "         [0.1800]]),\n",
       " tensor([[0.3000],\n",
       "         [0.3140],\n",
       "         [0.3280],\n",
       "         [0.3420],\n",
       "         [0.3560],\n",
       "         [0.3700],\n",
       "         [0.3840],\n",
       "         [0.3980],\n",
       "         [0.4120],\n",
       "         [0.4260]]))"
      ]
     },
     "execution_count": 13,
     "metadata": {},
     "output_type": "execute_result"
    }
   ],
   "source": [
    "weight = 0.7\n",
    "bias = 0.3\n",
    "\n",
    "start, end, step = 0, 1, 0.02\n",
    "X = torch.arange(start, end, step).unsqueeze(dim=1)\n",
    "y = weight * X + bias\n",
    "X[:10], y[:10]"
   ]
  },
  {
   "cell_type": "code",
   "execution_count": 14,
   "id": "84a15006",
   "metadata": {
    "execution": {
     "iopub.execute_input": "2022-11-29T13:07:59.385215Z",
     "iopub.status.busy": "2022-11-29T13:07:59.384845Z",
     "iopub.status.idle": "2022-11-29T13:07:59.602594Z",
     "shell.execute_reply": "2022-11-29T13:07:59.601703Z"
    },
    "papermill": {
     "duration": 0.227331,
     "end_time": "2022-11-29T13:07:59.604863",
     "exception": false,
     "start_time": "2022-11-29T13:07:59.377532",
     "status": "completed"
    },
    "tags": []
   },
   "outputs": [
    {
     "data": {
      "image/png": "[encoded data removed]",
      "text/plain": [
       "<Figure size 720x504 with 1 Axes>"
      ]
     },
     "metadata": {
      "needs_background": "light"
     },
     "output_type": "display_data"
    }
   ],
   "source": [
    "#split data into training and test\n",
    "train_split = int(0.8*len(X))\n",
    "X_train, y_train = X[:train_split], y[:train_split]\n",
    "X_test, y_test = X[train_split:], y[train_split:]\n",
    "\n",
    "len(X_train), len(y_train), len(X_test), len(y_test)\n",
    "def plot_predictions(train_data=X_train, \n",
    "                     train_labels=y_train, \n",
    "                     test_data=X_test, \n",
    "                     test_labels=y_test, \n",
    "                     predictions=None):\n",
    "  \"\"\"\n",
    "  Plots training data, test data and compares predictions.\n",
    "  \"\"\"\n",
    "  plt.figure(figsize=(10, 7))\n",
    "\n",
    "  # Plot training data in blue\n",
    "  plt.scatter(train_data, train_labels, c=\"b\", s=4, label=\"Training data\")\n",
    "  \n",
    "  # Plot test data in green\n",
    "  plt.scatter(test_data, test_labels, c=\"y\", s=4, label=\"Testing data\")\n",
    "\n",
    "  if predictions is not None:\n",
    "    # Plot the predictions in red (predictions were made on the test data)\n",
    "    plt.scatter(test_data, predictions, c=\"r\", s=4, label=\"Predictions\")\n",
    "\n",
    "  # Show the legend\n",
    "  plt.legend(prop={\"size\": 20});\n",
    "\n",
    "plot_predictions(X_train, y_train, X_test, y_test)\n"
   ]
  },
  {
   "cell_type": "code",
   "execution_count": 15,
   "id": "020eaf2d",
   "metadata": {
    "execution": {
     "iopub.execute_input": "2022-11-29T13:07:59.621236Z",
     "iopub.status.busy": "2022-11-29T13:07:59.620326Z",
     "iopub.status.idle": "2022-11-29T13:07:59.632794Z",
     "shell.execute_reply": "2022-11-29T13:07:59.631682Z"
    },
    "papermill": {
     "duration": 0.022149,
     "end_time": "2022-11-29T13:07:59.634755",
     "exception": false,
     "start_time": "2022-11-29T13:07:59.612606",
     "status": "completed"
    },
    "tags": []
   },
   "outputs": [
    {
     "data": {
      "text/plain": [
       "(LinearRegressionModelV2(\n",
       "   (linear_layer): Linear(in_features=1, out_features=1, bias=True)\n",
       " ),\n",
       " OrderedDict([('linear_layer.weight', tensor([[0.7645]])),\n",
       "              ('linear_layer.bias', tensor([0.8300]))]))"
      ]
     },
     "execution_count": 15,
     "metadata": {},
     "output_type": "execute_result"
    }
   ],
   "source": [
    "class LinearRegressionModelV2(nn.Module):\n",
    "    def __init__(self):\n",
    "        super().__init__()\n",
    "        self.linear_layer = nn.Linear(in_features=1, out_features=1)\n",
    "        \n",
    "    def forward(self, x: torch.Tensor)-> torch.Tensor:\n",
    "        return self.linear_layer(x)\n",
    "    \n",
    "torch.manual_seed(42)\n",
    "model_1 = LinearRegressionModelV2()\n",
    "model_1, model_1.state_dict()\n",
    "    "
   ]
  },
  {
   "cell_type": "code",
   "execution_count": 16,
   "id": "f64aa02b",
   "metadata": {
    "execution": {
     "iopub.execute_input": "2022-11-29T13:07:59.648796Z",
     "iopub.status.busy": "2022-11-29T13:07:59.648455Z",
     "iopub.status.idle": "2022-11-29T13:07:59.652888Z",
     "shell.execute_reply": "2022-11-29T13:07:59.652066Z"
    },
    "papermill": {
     "duration": 0.013443,
     "end_time": "2022-11-29T13:07:59.654536",
     "exception": false,
     "start_time": "2022-11-29T13:07:59.641093",
     "status": "completed"
    },
    "tags": []
   },
   "outputs": [],
   "source": [
    "# Create loss function\n",
    "loss_fn = nn.L1Loss()\n",
    "\n",
    "# Create optimizer\n",
    "optimizer = torch.optim.SGD(params=model_1.parameters(), # optimize newly created model's parameters\n",
    "                            lr=0.01)"
   ]
  },
  {
   "cell_type": "code",
   "execution_count": 17,
   "id": "dc8d1404",
   "metadata": {
    "execution": {
     "iopub.execute_input": "2022-11-29T13:07:59.668701Z",
     "iopub.status.busy": "2022-11-29T13:07:59.668398Z",
     "iopub.status.idle": "2022-11-29T13:07:59.675888Z",
     "shell.execute_reply": "2022-11-29T13:07:59.674429Z"
    },
    "papermill": {
     "duration": 0.017395,
     "end_time": "2022-11-29T13:07:59.678420",
     "exception": false,
     "start_time": "2022-11-29T13:07:59.661025",
     "status": "completed"
    },
    "tags": []
   },
   "outputs": [
    {
     "data": {
      "text/plain": [
       "device(type='cpu')"
      ]
     },
     "execution_count": 17,
     "metadata": {},
     "output_type": "execute_result"
    }
   ],
   "source": [
    "# Set model to GPU if it's availalble, otherwise it'll default to CPU\n",
    "model_1.to(device) # the device variable was set above to be \"cuda\" if available or \"cpu\" if not\n",
    "next(model_1.parameters()).device"
   ]
  },
  {
   "cell_type": "code",
   "execution_count": 18,
   "id": "11144b67",
   "metadata": {
    "execution": {
     "iopub.execute_input": "2022-11-29T13:07:59.693980Z",
     "iopub.status.busy": "2022-11-29T13:07:59.693526Z",
     "iopub.status.idle": "2022-11-29T13:07:59.804498Z",
     "shell.execute_reply": "2022-11-29T13:07:59.803807Z"
    },
    "papermill": {
     "duration": 0.121512,
     "end_time": "2022-11-29T13:07:59.806531",
     "exception": false,
     "start_time": "2022-11-29T13:07:59.685019",
     "status": "completed"
    },
    "tags": []
   },
   "outputs": [
    {
     "name": "stdout",
     "output_type": "stream",
     "text": [
      "Epoch: 0 | Train loss: 0.5551779866218567 | Test loss: 0.5739762187004089\n",
      "Epoch: 100 | Train loss: 0.006215679459273815 | Test loss: 0.014086711220443249\n",
      "Epoch: 200 | Train loss: 0.0012645035749301314 | Test loss: 0.013801807537674904\n"
     ]
    }
   ],
   "source": [
    "torch.manual_seed(42)\n",
    "\n",
    "epochs = 300\n",
    "X_train = X_train.to(device)\n",
    "X_test = X_test.to(device)\n",
    "y_train = y_train.to(device)\n",
    "y_test = y_test.to(device)\n",
    "\n",
    "for epoch in range(epochs):\n",
    "    ### Training\n",
    "    model_1.train() # train mode is on by default after construction\n",
    "\n",
    "    # 1. Forward pass\n",
    "    y_pred = model_1(X_train)\n",
    "\n",
    "    # 2. Calculate loss\n",
    "    loss = loss_fn(y_pred, y_train)\n",
    "\n",
    "    # 3. Zero grad optimizer\n",
    "    optimizer.zero_grad()\n",
    "\n",
    "    # 4. Loss backward\n",
    "    loss.backward()\n",
    "\n",
    "    # 5. Step the optimizer\n",
    "    optimizer.step()\n",
    "\n",
    "    ### Testing\n",
    "    model_1.eval() # put the model in evaluation mode for testing (inference)\n",
    "    # 1. Forward pass\n",
    "    with torch.inference_mode():\n",
    "        test_pred = model_1(X_test)\n",
    "    \n",
    "        # 2. Calculate the loss\n",
    "        test_loss = loss_fn(test_pred, y_test)\n",
    "\n",
    "    if epoch % 100 == 0:\n",
    "        print(f\"Epoch: {epoch} | Train loss: {loss} | Test loss: {test_loss}\")    "
   ]
  },
  {
   "cell_type": "code",
   "execution_count": 19,
   "id": "71df632b",
   "metadata": {
    "execution": {
     "iopub.execute_input": "2022-11-29T13:07:59.822490Z",
     "iopub.status.busy": "2022-11-29T13:07:59.821520Z",
     "iopub.status.idle": "2022-11-29T13:07:59.829838Z",
     "shell.execute_reply": "2022-11-29T13:07:59.828471Z"
    },
    "papermill": {
     "duration": 0.018175,
     "end_time": "2022-11-29T13:07:59.832035",
     "exception": false,
     "start_time": "2022-11-29T13:07:59.813860",
     "status": "completed"
    },
    "tags": []
   },
   "outputs": [
    {
     "name": "stdout",
     "output_type": "stream",
     "text": [
      "The model learned the following values for weights and bias:\n",
      "OrderedDict([('linear_layer.weight', tensor([[0.6968]])),\n",
      "             ('linear_layer.bias', tensor([0.3025]))])\n",
      "\n",
      "And the original values for weights and bias are:\n",
      "weights: 0.7, bias: 0.3\n"
     ]
    }
   ],
   "source": [
    "# Find our model's learned parameters\n",
    "from pprint import pprint # pprint = pretty print, see: https://docs.python.org/3/library/pprint.html \n",
    "print(\"The model learned the following values for weights and bias:\")\n",
    "pprint(model_1.state_dict())\n",
    "print(\"\\nAnd the original values for weights and bias are:\")\n",
    "print(f\"weights: {weight}, bias: {bias}\")"
   ]
  },
  {
   "cell_type": "code",
   "execution_count": 20,
   "id": "295303ce",
   "metadata": {
    "execution": {
     "iopub.execute_input": "2022-11-29T13:07:59.848105Z",
     "iopub.status.busy": "2022-11-29T13:07:59.847088Z",
     "iopub.status.idle": "2022-11-29T13:07:59.857109Z",
     "shell.execute_reply": "2022-11-29T13:07:59.855725Z"
    },
    "papermill": {
     "duration": 0.020301,
     "end_time": "2022-11-29T13:07:59.859374",
     "exception": false,
     "start_time": "2022-11-29T13:07:59.839073",
     "status": "completed"
    },
    "tags": []
   },
   "outputs": [
    {
     "data": {
      "text/plain": [
       "tensor([[0.8600],\n",
       "        [0.8739],\n",
       "        [0.8878],\n",
       "        [0.9018],\n",
       "        [0.9157],\n",
       "        [0.9296],\n",
       "        [0.9436],\n",
       "        [0.9575],\n",
       "        [0.9714],\n",
       "        [0.9854]])"
      ]
     },
     "execution_count": 20,
     "metadata": {},
     "output_type": "execute_result"
    }
   ],
   "source": [
    "# Turn model into evaluation mode\n",
    "model_1.eval()\n",
    "\n",
    "# Make predictions on the test data\n",
    "with torch.inference_mode():\n",
    "    y_preds = model_1(X_test)\n",
    "y_preds\n"
   ]
  },
  {
   "cell_type": "code",
   "execution_count": 21,
   "id": "0e8e18ac",
   "metadata": {
    "execution": {
     "iopub.execute_input": "2022-11-29T13:07:59.875455Z",
     "iopub.status.busy": "2022-11-29T13:07:59.874971Z",
     "iopub.status.idle": "2022-11-29T13:08:00.103166Z",
     "shell.execute_reply": "2022-11-29T13:08:00.102341Z"
    },
    "papermill": {
     "duration": 0.238355,
     "end_time": "2022-11-29T13:08:00.105065",
     "exception": false,
     "start_time": "2022-11-29T13:07:59.866710",
     "status": "completed"
    },
    "tags": []
   },
   "outputs": [
    {
     "data": {
      "image/png": "[encoded data removed]",
      "text/plain": [
       "<Figure size 720x504 with 1 Axes>"
      ]
     },
     "metadata": {
      "needs_background": "light"
     },
     "output_type": "display_data"
    }
   ],
   "source": [
    "# plot_predictions(predictions=y_preds) # -> won't work... data not on CPU\n",
    "\n",
    "# Put data on the CPU and plot it\n",
    "plot_predictions(predictions=y_preds.cpu())"
   ]
  }
 ],
 "metadata": {
  "kernelspec": {
   "display_name": "Python 3",
   "language": "python",
   "name": "python3"
  },
  "language_info": {
   "codemirror_mode": {
    "name": "ipython",
    "version": 3
   },
   "file_extension": ".py",
   "mimetype": "text/x-python",
   "name": "python",
   "nbconvert_exporter": "python",
   "pygments_lexer": "ipython3",
   "version": "3.7.12"
  },
  "papermill": {
   "default_parameters": {},
   "duration": 10.658828,
   "end_time": "2022-11-29T13:08:00.832065",
   "environment_variables": {},
   "exception": null,
   "input_path": "__notebook__.ipynb",
   "output_path": "__notebook__.ipynb",
   "parameters": {},
   "start_time": "2022-11-29T13:07:50.173237",
   "version": "2.3.4"
  }
 },
 "nbformat": 4,
 "nbformat_minor": 5
}
