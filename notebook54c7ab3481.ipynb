{
 "cells": [
  {
   "cell_type": "code",
   "execution_count": 1,
   "id": "3ab56c32",
   "metadata": {
    "_cell_guid": "b1076dfc-b9ad-4769-8c92-a6c4dae69d19",
    "_uuid": "8f2839f25d086af736a60e9eeb907d3b93b6e0e5",
    "execution": {
     "iopub.execute_input": "2022-11-26T19:03:01.833568Z",
     "iopub.status.busy": "2022-11-26T19:03:01.832877Z",
     "iopub.status.idle": "2022-11-26T19:03:12.946072Z",
     "shell.execute_reply": "2022-11-26T19:03:12.944964Z"
    },
    "papermill": {
     "duration": 11.119926,
     "end_time": "2022-11-26T19:03:12.948685",
     "exception": false,
     "start_time": "2022-11-26T19:03:01.828759",
     "status": "completed"
    },
    "tags": []
   },
   "outputs": [
    {
     "name": "stdout",
     "output_type": "stream",
     "text": [
      "\u001b[33mWARNING: Running pip as the 'root' user can result in broken permissions and conflicting behaviour with the system package manager. It is recommended to use a virtual environment instead: https://pip.pypa.io/warnings/venv\u001b[0m\u001b[33m\r\n",
      "\u001b[0m"
     ]
    }
   ],
   "source": [
    "try: import fastkaggle\n",
    "except ModuleNotFoundError:\n",
    "    !pip install -Uq fastkaggle\n",
    "from fastkaggle import *\n"
   ]
  },
  {
   "cell_type": "code",
   "execution_count": 2,
   "id": "8cf825a4",
   "metadata": {
    "execution": {
     "iopub.execute_input": "2022-11-26T19:03:12.955428Z",
     "iopub.status.busy": "2022-11-26T19:03:12.954081Z",
     "iopub.status.idle": "2022-11-26T19:03:31.470981Z",
     "shell.execute_reply": "2022-11-26T19:03:31.469783Z"
    },
    "papermill": {
     "duration": 18.522584,
     "end_time": "2022-11-26T19:03:31.473585",
     "exception": false,
     "start_time": "2022-11-26T19:03:12.951001",
     "status": "completed"
    },
    "tags": []
   },
   "outputs": [],
   "source": [
    "comp = 'paddy-disease-classification'\n",
    "path = setup_comp(comp, install='fastai \"timm>=0.6.2.dev0\"')\n",
    "from fastai.vision.all import *\n",
    "set_seed(42)\n",
    "\n",
    "test_files = get_image_files(path/'test_images').sorted()\n"
   ]
  },
  {
   "cell_type": "code",
   "execution_count": 3,
   "id": "e78acdec",
   "metadata": {
    "execution": {
     "iopub.execute_input": "2022-11-26T19:03:31.479361Z",
     "iopub.status.busy": "2022-11-26T19:03:31.478870Z",
     "iopub.status.idle": "2022-11-26T19:03:31.521188Z",
     "shell.execute_reply": "2022-11-26T19:03:31.520240Z"
    },
    "papermill": {
     "duration": 0.047452,
     "end_time": "2022-11-26T19:03:31.523197",
     "exception": false,
     "start_time": "2022-11-26T19:03:31.475745",
     "status": "completed"
    },
    "tags": []
   },
   "outputs": [
    {
     "data": {
      "text/plain": [
       "normal                      1764\n",
       "blast                       1738\n",
       "hispa                       1594\n",
       "dead_heart                  1442\n",
       "tungro                      1088\n",
       "brown_spot                   965\n",
       "downy_mildew                 620\n",
       "bacterial_leaf_blight        479\n",
       "bacterial_leaf_streak        380\n",
       "bacterial_panicle_blight     337\n",
       "Name: label, dtype: int64"
      ]
     },
     "execution_count": 3,
     "metadata": {},
     "output_type": "execute_result"
    }
   ],
   "source": [
    "df = pd.read_csv(path/'train.csv')\n",
    "df.label.value_counts()"
   ]
  },
  {
   "cell_type": "code",
   "execution_count": 4,
   "id": "4c2ddd9c",
   "metadata": {
    "execution": {
     "iopub.execute_input": "2022-11-26T19:03:31.528445Z",
     "iopub.status.busy": "2022-11-26T19:03:31.528173Z",
     "iopub.status.idle": "2022-11-26T19:03:31.532409Z",
     "shell.execute_reply": "2022-11-26T19:03:31.531336Z"
    },
    "papermill": {
     "duration": 0.009684,
     "end_time": "2022-11-26T19:03:31.534912",
     "exception": false,
     "start_time": "2022-11-26T19:03:31.525228",
     "status": "completed"
    },
    "tags": []
   },
   "outputs": [],
   "source": [
    "train_path = path/'train_images'/'bacterial_panicle_blight'"
   ]
  },
  {
   "cell_type": "code",
   "execution_count": 5,
   "id": "f717637f",
   "metadata": {
    "execution": {
     "iopub.execute_input": "2022-11-26T19:03:31.539925Z",
     "iopub.status.busy": "2022-11-26T19:03:31.539638Z",
     "iopub.status.idle": "2022-11-26T19:03:31.544261Z",
     "shell.execute_reply": "2022-11-26T19:03:31.543249Z"
    },
    "papermill": {
     "duration": 0.009798,
     "end_time": "2022-11-26T19:03:31.546556",
     "exception": false,
     "start_time": "2022-11-26T19:03:31.536758",
     "status": "completed"
    },
    "tags": []
   },
   "outputs": [],
   "source": [
    "def train(arch, size, item=Resize(480, method='squish'), accum=1,finetune=True, epochs=12):\n",
    "    dls = ImageDataLoaders.from_folder(train_path)"
   ]
  }
 ],
 "metadata": {
  "kernelspec": {
   "display_name": "Python 3",
   "language": "python",
   "name": "python3"
  },
  "language_info": {
   "codemirror_mode": {
    "name": "ipython",
    "version": 3
   },
   "file_extension": ".py",
   "mimetype": "text/x-python",
   "name": "python",
   "nbconvert_exporter": "python",
   "pygments_lexer": "ipython3",
   "version": "3.7.12"
  },
  "papermill": {
   "default_parameters": {},
   "duration": 38.589888,
   "end_time": "2022-11-26T19:03:32.769509",
   "environment_variables": {},
   "exception": null,
   "input_path": "__notebook__.ipynb",
   "output_path": "__notebook__.ipynb",
   "parameters": {},
   "start_time": "2022-11-26T19:02:54.179621",
   "version": "2.3.4"
  }
 },
 "nbformat": 4,
 "nbformat_minor": 5
}
